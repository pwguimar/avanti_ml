{
  "nbformat": 4,
  "nbformat_minor": 0,
  "metadata": {
    "colab": {
      "provenance": []
    },
    "kernelspec": {
      "name": "python3",
      "display_name": "Python 3"
    },
    "language_info": {
      "name": "python"
    }
  },
  "cells": [
    {
      "cell_type": "markdown",
      "source": [
        "## Q6. Como identificar e tratar outliers em uma coluna numérica usando desvio padrão ou quartis?"
      ],
      "metadata": {
        "id": "RkBSXIOLRYxE"
      }
    },
    {
      "cell_type": "markdown",
      "source": [
        "# Identificação e Tratamento de Outliers em Python:\n",
        "\n",
        "**Sumário**\n",
        "1. [Introdução](#introdução)  \n",
        "2. [Método do Desvio Padrão (Z-Score)](#método-do-desvio-padrão-z-score)  \n",
        "3. [Método do IQR (Quartis)](#método-do-iqr-quartis)  \n",
        "4. [Tratamento de Outliers](#tratamento-de-outliers)  \n",
        "5. [Exemplos de Gráficos](#exemplos-de-gráficos)\n",
        "\n",
        "---\n",
        "\n",
        "## Introdução\n",
        "\n",
        "Outliers são valores atípicos que podem distorcer análises estatísticas e modelos preditivos. Existem diversas abordagens para tratar esse problema e abaixo duas dessas abordagens são utilizadas para **identificação** e **tratamento** de outliers em uma coluna numérica:\n",
        "\n",
        "- **Z-Score (Desvio Padrão)**  \n",
        "- **IQR (Intervalo Interquartílico)**  \n",
        "\n",
        "Em seguida, são apresentados exemplos em Python com visualizações (histograma, boxplot e scatter).\n",
        "\n",
        "---\n",
        "\n",
        "## Método do Desvio Padrão (Z-Score)\n",
        "\n",
        "1. Calcule a **média** (μ) e o **desvio padrão** (σ).  \n",
        "2. Para cada valor $x_i$, calcule o **Z-Score**:\n",
        "\n",
        "$$\n",
        "z_i \\;=\\;\\frac{x_i - \\mu}{\\sigma}\n",
        "$$\n",
        "\n",
        "3. Defina um **limiar** (por exemplo, $|z_i| > 3$ ou $|z_i| > 2$).  \n",
        "4. Valores com $|z_i|$ acima do limiar são considerados outliers.  \n",
        "\n",
        "---\n",
        "\n",
        "## Método do IQR (Quartis)\n",
        "\n",
        "1. Calcule o **1º quartil** \\(Q1\\) (percentil 25) e o **3º quartil** \\(Q3\\) (percentil 75).  \n",
        "2. Calcule o **IQR**:  \n",
        "   \\[\n",
        "     IQR = Q3 - Q1\n",
        "   \\]\n",
        "3. Determine os limites:  \n",
        "   - **Limite inferior**: \\(Q1 - 1.5 \\times IQR\\)  \n",
        "   - **Limite superior**: \\(Q3 + 1.5 \\times IQR\\)  \n",
        "4. Valores fora desses limites são outliers.\n",
        "\n",
        "---\n",
        "\n",
        "## Tratamento de Outliers\n",
        "\n",
        "Existem 03 possibilidades principais no tratamento de Outliers:\n",
        "\n",
        "- **Remoção**: descartar registros com outliers.  \n",
        "- **Winsorização**: limitar o valor ao máximo ou mínimo permitido (colar no limite).  \n",
        "- **Imputação**: substituir outliers por mediana, média ou outro valor plausível.\n",
        "\n",
        "---"
      ],
      "metadata": {
        "id": "Dkkf6wC7SM2S"
      }
    },
    {
      "cell_type": "code",
      "source": [
        "import numpy as np\n",
        "import pandas as pd\n",
        "import matplotlib.pyplot as plt\n",
        "import seaborn as sns\n",
        "\n",
        "sns.set(style=\"whitegrid\")\n",
        "np.random.seed(0)\n",
        "\n",
        "# Gerando dados de exemplo\n",
        "data = pd.DataFrame({\n",
        "    'valor': np.concatenate([\n",
        "        np.random.normal(loc=50, scale=10, size=200),\n",
        "        [200, -50, 180]  # outliers artificiais\n",
        "    ])\n",
        "})\n",
        "\n",
        "# Cálculo do Z-Score\n",
        "mean = data['valor'].mean()\n",
        "std = data['valor'].std()\n",
        "limiar_z = 3\n",
        "data['z_score'] = (data['valor'] - mean) / std\n",
        "mask_outliers_z = data['z_score'].abs() > limiar_z\n",
        "\n",
        "# Cálculo do IQR\n",
        "Q1 = data['valor'].quantile(0.25)\n",
        "Q3 = data['valor'].quantile(0.75)\n",
        "IQR = Q3 - Q1\n",
        "lim_inf = Q1 - 1.5 * IQR\n",
        "lim_sup = Q3 + 1.5 * IQR\n",
        "mask_outliers_iqr = (data['valor'] < lim_inf) | (data['valor'] > lim_sup)\n",
        "\n",
        "# Tratamentos\n",
        "df_sem_out_z = data.loc[~mask_outliers_z, :].copy()              # Remoção pelo Z-Score\n",
        "data['valor_winsor'] = data['valor'].clip(lower=lim_inf, upper=lim_sup)  # Winsorização pelo IQR\n",
        "\n",
        "# Grid 2x2 de gráficos\n",
        "fig, axes = plt.subplots(2, 2, figsize=(14, 10))\n",
        "\n",
        "# Histograma + linhas de limiar Z-Score\n",
        "sns.histplot(data['valor'], bins=30, kde=True, color='skyblue', ax=axes[0, 0])\n",
        "axes[0, 0].axvline(mean + limiar_z * std, color='red', linestyle='--', label=f'+{limiar_z}σ')\n",
        "axes[0, 0].axvline(mean - limiar_z * std, color='red', linestyle='--', label=f'-{limiar_z}σ')\n",
        "axes[0, 0].set_title(\"Histograma + Limites Z-Score\")\n",
        "axes[0, 0].legend()\n",
        "\n",
        "# Scatter plot destacando outliers pelo Z-Score\n",
        "sns.scatterplot(x=data.index, y='valor', data=data,\n",
        "                hue=mask_outliers_z, palette={False: 'blue', True: 'red'},\n",
        "                legend=False, ax=axes[0, 1])\n",
        "axes[0, 1].set_title(\"Scatter (outliers Z-Score em vermelho)\")\n",
        "\n",
        "# Boxplot original\n",
        "sns.boxplot(x=data['valor'], color='lightgreen', ax=axes[1, 0])\n",
        "axes[1, 0].set_title(\"Boxplot Original\")\n",
        "\n",
        "# Boxplot winsorizado via IQR\n",
        "sns.boxplot(x=data['valor_winsor'], color='orange', ax=axes[1, 1])\n",
        "axes[1, 1].set_title(\"Boxplot Winsorizado (IQR)\")\n",
        "\n",
        "plt.tight_layout()\n",
        "plt.show()\n",
        "\n"
      ],
      "metadata": {
        "colab": {
          "base_uri": "https://localhost:8080/",
          "height": 1000
        },
        "id": "Iy-CvPx_RaFw",
        "outputId": "7cce1c8a-bc9b-4ab2-f141-1be42edc4e59"
      },
      "execution_count": null,
      "outputs": [
        {
          "output_type": "display_data",
          "data": {
            "text/plain": [
              "<Figure size 1400x1000 with 4 Axes>"
            ],
            "image/png": "[encoded data removed]"
          },
          "metadata": {}
        }
      ]
    },
    {
      "cell_type": "markdown",
      "source": [
        "##Q7. Como concatenar vários DataFrames (empilhando linhas ou colunas), mesmo que tenham colunas diferentes? Dica: Utiliza-se pd.concat() especificando axis=0 (linhas) ou axis=1 (colunas). Quando há colunas diferentes, os valores ausentes são preenchidos com NaN.\n"
      ],
      "metadata": {
        "id": "hRRXpePxV13w"
      }
    },
    {
      "cell_type": "markdown",
      "source": [
        "## Como concatenar DataFrames com pandas (pd.concat())\n",
        "\n",
        "É possível concatenar vários DataFrames, empilhando linhas ou colunas, mesmo quando as colunas são diferentes, usando pd.concat() do pandas:\n",
        "\n",
        "- axis=0 (padrão): empilha linhas (um DataFrame abaixo do outro)\n",
        "- axis=1: empilha colunas (um ao lado do outro)\n",
        "\n",
        "Se existirem colunas diferentes, os valores ausentes são preenchidos automaticamente com NaN."
      ],
      "metadata": {
        "id": "xzRAWvk4gPLt"
      }
    },
    {
      "cell_type": "code",
      "source": [
        "import pandas as pd\n",
        "from typing import List\n",
        "\n",
        "def concat_dataframes(\n",
        "    dfs: List[pd.DataFrame],\n",
        "    axis: int = 0,\n",
        "    ignore_index: bool = False,\n",
        "    join: str = \"outer\"\n",
        ") -> pd.DataFrame:\n",
        "    \"\"\"\n",
        "    Concatena uma lista de DataFrames.\n",
        "\n",
        "    Args:\n",
        "        dfs: lista de DataFrames\n",
        "        axis: 0 para empilhar linhas, 1 para empilhar colunas\n",
        "        ignore_index: renumera índice no resultado\n",
        "        join: \"outer\" para união, \"inner\" para interseção\n",
        "\n",
        "    Returns:\n",
        "        DataFrame concatenado\n",
        "    \"\"\"\n",
        "    return pd.concat(dfs, axis=axis, ignore_index=ignore_index, join=join)\n",
        "\n",
        "def main() -> None:\n",
        "    # Exemplo 1: axis=0, mesmas colunas\n",
        "    df1 = pd.DataFrame({\"id\": [1, 2], \"valor\": [10, 20]})\n",
        "    df2 = pd.DataFrame({\"id\": [3, 4], \"valor\": [30, 40]})\n",
        "    print(\">>> df1:\\n\", df1, \"\\n\")\n",
        "    print(\">>> df2:\\n\", df2, \"\\n\")\n",
        "    resultado1 = concat_dataframes([df1, df2], axis=0, ignore_index=True)\n",
        "    print(\">>> Resultado 1 (df1 + df2):\\n\", resultado1, \"\\n\")\n",
        "\n",
        "    # Exemplo 2: axis=0, colunas diferentes\n",
        "    df3 = pd.DataFrame({\"id\": [5, 6], \"outra\": [\"A\", \"B\"]})\n",
        "    print(\">>> df1:\\n\", df1, \"\\n\")\n",
        "    print(\">>> df3:\\n\", df3, \"\\n\")\n",
        "    resultado2 = concat_dataframes([df1, df3], axis=0, ignore_index=True)\n",
        "    print(\">>> Resultado 2 (df1 + df3):\\n\", resultado2, \"\\n\")\n",
        "\n",
        "    # Exemplo 3: axis=1, mesmo índice\n",
        "    df4 = pd.DataFrame({\"nome\": [\"Ana\", \"Bruno\"]}, index=[0, 1])\n",
        "    df5 = pd.DataFrame({\"idade\": [25, 30]},        index=[0, 1])\n",
        "    print(\">>> df4:\\n\", df4, \"\\n\")\n",
        "    print(\">>> df5:\\n\", df5, \"\\n\")\n",
        "    resultado3 = concat_dataframes([df4, df5], axis=1)\n",
        "    print(\">>> Resultado 3 (df4 ∥ df5):\\n\", resultado3, \"\\n\")\n",
        "\n",
        "    # Exemplo 4: axis=1, índices diferentes\n",
        "    df6 = pd.DataFrame({\"cidade\": [\"SP\", \"RJ\"]}, index=[0, 2])\n",
        "    print(\">>> df4:\\n\", df4, \"\\n\")\n",
        "    print(\">>> df6:\\n\", df6, \"\\n\")\n",
        "    resultado4 = concat_dataframes([df4, df6], axis=1)\n",
        "    print(\">>> Resultado 4 (df4 ∥ df6):\\n\", resultado4, \"\\n\")\n",
        "\n",
        "if __name__ == \"__main__\":\n",
        "    main()\n",
        "\n"
      ],
      "metadata": {
        "id": "9WLRxcghWUpP",
        "colab": {
          "base_uri": "https://localhost:8080/"
        },
        "outputId": "2473e78f-135e-408d-fd13-3109aaedba60"
      },
      "execution_count": 3,
      "outputs": [
        {
          "output_type": "stream",
          "name": "stdout",
          "text": [
            ">>> df1:\n",
            "    id  valor\n",
            "0   1     10\n",
            "1   2     20 \n",
            "\n",
            ">>> df2:\n",
            "    id  valor\n",
            "0   3     30\n",
            "1   4     40 \n",
            "\n",
            ">>> Resultado 1 (df1 + df2):\n",
            "    id  valor\n",
            "0   1     10\n",
            "1   2     20\n",
            "2   3     30\n",
            "3   4     40 \n",
            "\n",
            ">>> df1:\n",
            "    id  valor\n",
            "0   1     10\n",
            "1   2     20 \n",
            "\n",
            ">>> df3:\n",
            "    id outra\n",
            "0   5     A\n",
            "1   6     B \n",
            "\n",
            ">>> Resultado 2 (df1 + df3):\n",
            "    id  valor outra\n",
            "0   1   10.0   NaN\n",
            "1   2   20.0   NaN\n",
            "2   5    NaN     A\n",
            "3   6    NaN     B \n",
            "\n",
            ">>> df4:\n",
            "     nome\n",
            "0    Ana\n",
            "1  Bruno \n",
            "\n",
            ">>> df5:\n",
            "    idade\n",
            "0     25\n",
            "1     30 \n",
            "\n",
            ">>> Resultado 3 (df4 ∥ df5):\n",
            "     nome  idade\n",
            "0    Ana     25\n",
            "1  Bruno     30 \n",
            "\n",
            ">>> df4:\n",
            "     nome\n",
            "0    Ana\n",
            "1  Bruno \n",
            "\n",
            ">>> df6:\n",
            "   cidade\n",
            "0     SP\n",
            "2     RJ \n",
            "\n",
            ">>> Resultado 4 (df4 ∥ df6):\n",
            "     nome cidade\n",
            "0    Ana     SP\n",
            "1  Bruno    NaN\n",
            "2    NaN     RJ \n",
            "\n"
          ]
        }
      ]
    },
    {
      "cell_type": "markdown",
      "source": [
        "## Q8. Utilizando pandas, como realizar a leitura de um arquivo CSV em um DataFrame e exibir as primeiras linhas?\n"
      ],
      "metadata": {
        "id": "QdlzFz7Kh7i-"
      }
    },
    {
      "cell_type": "markdown",
      "source": [
        "# Leitura de arquivo CSV com pandas\n",
        "\n",
        "Para ler um arquivo CSV em um `DataFrame` do pandas e exibir as primeiras linhas, utilizamos o método `pd.read_csv()` junto com o atributo `.head()`.\n",
        "\n",
        "## Sintaxe básica\n",
        "\n",
        "```python\n",
        "pd.read_csv(\n",
        "    filepath_or_buffer: str,  # caminho para o arquivo CSV\n",
        "    sep: str = \",\",           # separador de colunas (default = \",\")\n",
        "    encoding: str = \"utf-8\",   # codificação do arquivo\n",
        "    ...\n",
        ") -> pd.DataFrame\n",
        "\n",
        "df.head(n: int = 5) -> pd.DataFrame\n",
        "# n é o número de linhas a exibir (default = 5)\n"
      ],
      "metadata": {
        "id": "k3_XsyRiiRM0"
      }
    },
    {
      "cell_type": "code",
      "source": [
        "import pandas as pd\n",
        "from typing import List\n",
        "\n",
        "def load_csv(\n",
        "    source: str,\n",
        "    sep: str = \",\",\n",
        "    encoding: str = \"utf-8\"\n",
        ") -> pd.DataFrame:\n",
        "    \"\"\"\n",
        "    Carrega um CSV de uma fonte local ou remota.\n",
        "\n",
        "    Args:\n",
        "        source (str): Caminho local ou URL do CSV.\n",
        "        sep (str): Separador de colunas.\n",
        "        encoding (str): Codificação do arquivo.\n",
        "\n",
        "    Returns:\n",
        "        pd.DataFrame: Dados lidos no DataFrame.\n",
        "    \"\"\"\n",
        "    return pd.read_csv(source, sep=sep, encoding=encoding)\n",
        "\n",
        "def main() -> None:\n",
        "    # URL de exemplo: conjunto de dados Iris (seaborn)\n",
        "    csv_url = \"https://raw.githubusercontent.com/mwaskom/seaborn-data/master/iris.csv\"\n",
        "\n",
        "    # Carrega o CSV remoto\n",
        "    df = load_csv(csv_url)\n",
        "\n",
        "    # Exibe as primeiras 5 linhas\n",
        "    print(\"Primeiras linhas do DataFrame:\\n\")\n",
        "    print(df.head())\n",
        "\n",
        "if __name__ == \"__main__\":\n",
        "    main()\n"
      ],
      "metadata": {
        "colab": {
          "base_uri": "https://localhost:8080/"
        },
        "id": "K0N7yw1tikhj",
        "outputId": "3a144fbe-e72c-4b90-cc28-aac0df3c0922"
      },
      "execution_count": 5,
      "outputs": [
        {
          "output_type": "stream",
          "name": "stdout",
          "text": [
            "Primeiras linhas do DataFrame:\n",
            "\n",
            "   sepal_length  sepal_width  petal_length  petal_width species\n",
            "0           5.1          3.5           1.4          0.2  setosa\n",
            "1           4.9          3.0           1.4          0.2  setosa\n",
            "2           4.7          3.2           1.3          0.2  setosa\n",
            "3           4.6          3.1           1.5          0.2  setosa\n",
            "4           5.0          3.6           1.4          0.2  setosa\n"
          ]
        }
      ]
    },
    {
      "cell_type": "code",
      "source": [
        "# Versao sucinta que mostra pd.read_scv!\n",
        "import pandas as pd\n",
        "\n",
        "# lê o CSV e retorna um DataFrame\n",
        "df = pd.read_csv(\"https://raw.githubusercontent.com/mwaskom/seaborn-data/master/iris.csv\"\n",
        "    )\n",
        "\n",
        "# exibe as 5 primeiras linhas\n",
        "print(df.head())"
      ],
      "metadata": {
        "colab": {
          "base_uri": "https://localhost:8080/"
        },
        "id": "wlJu-Sgsj6HB",
        "outputId": "372aef50-7fc5-4338-e9ba-89b7b977db92"
      },
      "execution_count": 6,
      "outputs": [
        {
          "output_type": "stream",
          "name": "stdout",
          "text": [
            "   sepal_length  sepal_width  petal_length  petal_width species\n",
            "0           5.1          3.5           1.4          0.2  setosa\n",
            "1           4.9          3.0           1.4          0.2  setosa\n",
            "2           4.7          3.2           1.3          0.2  setosa\n",
            "3           4.6          3.1           1.5          0.2  setosa\n",
            "4           5.0          3.6           1.4          0.2  setosa\n"
          ]
        }
      ]
    },
    {
      "cell_type": "markdown",
      "source": [
        "##Q9. Utilizando pandas, como selecionar uma coluna específica e filtrar linhas em um “DataFrame” com base em uma condição?\n"
      ],
      "metadata": {
        "id": "NnLVrNfqkThh"
      }
    },
    {
      "cell_type": "markdown",
      "source": [
        "# Seleção de colunas e filtragem de linhas em pandas (pd).\n",
        "\n",
        "## 1. Seleção de Colunas\n",
        "- `df['col']` → Retorna Series\n",
        "- `df[['col1','col2']]` → Retorna DataFrame\n",
        "\n",
        "## 2. Filtro de Linhas\n",
        "- `df[condição]` → Filtra linhas\n",
        "- `df.loc[condição, colunas]` → Filtro + seleção\n",
        "\n",
        "## 3. Condições Comuns\n",
        "```python\n",
        "# Comparações\n",
        "df['idade'] > 18\n",
        "\n",
        "# Strings\n",
        "df['nome'].str.contains('a')\n",
        "\n",
        "# Combinações\n",
        "(cond1) & (cond2)  # AND\n",
        "(cond1) | (cond2)  # OR\n",
        "~(cond)            # NOT\n",
        "```\n",
        "\n",
        "### Sintaxe básica (exemplos):\n",
        "```python\n",
        "df['coluna']           # Retorna uma Series (única coluna)\n",
        "df[['col1', 'col2']]   # Retorna um DataFrame (múltiplas colunas)\n",
        "df.loc[:, 'coluna']    # Seleção explícita por rótulo\n",
        "df.loc[:, ['col1', 'col2']]\n",
        "df[condição]                     # Filtro simples (todas colunas)\n",
        "df.loc[condição, 'coluna']       # Filtro + coluna específica\n",
        "df.loc[condição, ['col1','col2']] # Filtro + múltiplas colunas\n",
        "df['idade'] > 18\n",
        "df['salário'].between(2000, 5000)\n",
        "df['pontuação'] != 0\n",
        "df['nome'].str.contains('Silva')\n",
        "df['email'].str.endswith('.com.br')\n",
        "df['cidade'].str.upper() == 'SÃO PAULO'\n",
        " ```\n",
        "\n"
      ],
      "metadata": {
        "id": "4F9LlGQfkqh6"
      }
    },
    {
      "cell_type": "code",
      "source": [
        "import pandas as pd\n",
        "from typing import Any\n",
        "\n",
        "def main() -> None:\n",
        "    \"\"\"\n",
        "    Demonstra como selecionar colunas e filtrar linhas em um DataFrame.\n",
        "    \"\"\"\n",
        "    # Monta um DataFrame de exemplo\n",
        "    data: dict[str, Any] = {\n",
        "        'id':      [1,  2,    3,     4,      5],\n",
        "        'idade':   [15, 22,   17,    30,     25],\n",
        "        'nome':    ['Ana', 'Bruno', 'Carlos', 'Diana', 'Edu'],\n",
        "        'salario': [2000, 3000, 1500,  4000,   3500]\n",
        "    }\n",
        "    df: pd.DataFrame = pd.DataFrame(data)\n",
        "\n",
        "    # Exemplo 1: selecionar a coluna \"idade\"\n",
        "    print(\"Exemplo 1 – Coluna idade:\")\n",
        "    print(df['idade'], \"\\n\")\n",
        "\n",
        "    # Exemplo 2: filtrar linhas com idade ≥ 18 e exibir \"nome\"\n",
        "    adultos: pd.Series = df[df['idade'] >= 18]['nome']\n",
        "    print(\"Exemplo 2 – Nomes com idade ≥ 18:\")\n",
        "    print(adultos, \"\\n\")\n",
        "\n",
        "    # Exemplo 3: filtrar nomes que começam com \"C\"\n",
        "    nomes_c: pd.Series = df[df['nome'].str.startswith('C')]['nome']\n",
        "    print(\"Exemplo 3 – Nomes que começam com 'C':\")\n",
        "    print(nomes_c, \"\\n\")\n",
        "\n",
        "    # Exemplo 4: múltiplas condições (idade < 30 e salário > 2500)\n",
        "    condicao = (df['idade'] < 30) & (df['salario'] > 2500)\n",
        "    resultados: pd.Series = df.loc[condicao, 'nome']\n",
        "    print(\"Exemplo 4 – Idade < 30 e salário > 2500:\")\n",
        "    print(resultados, \"\\n\")\n",
        "\n",
        "if __name__ == \"__main__\":\n",
        "    main()\n"
      ],
      "metadata": {
        "colab": {
          "base_uri": "https://localhost:8080/"
        },
        "id": "JAnmBJqdkq-8",
        "outputId": "6b69886c-8f9d-4c05-a183-810da406a6ae"
      },
      "execution_count": 7,
      "outputs": [
        {
          "output_type": "stream",
          "name": "stdout",
          "text": [
            "Exemplo 1 – Coluna idade:\n",
            "0    15\n",
            "1    22\n",
            "2    17\n",
            "3    30\n",
            "4    25\n",
            "Name: idade, dtype: int64 \n",
            "\n",
            "Exemplo 2 – Nomes com idade ≥ 18:\n",
            "1    Bruno\n",
            "3    Diana\n",
            "4      Edu\n",
            "Name: nome, dtype: object \n",
            "\n",
            "Exemplo 3 – Nomes que começam com 'C':\n",
            "2    Carlos\n",
            "Name: nome, dtype: object \n",
            "\n",
            "Exemplo 4 – Idade < 30 e salário > 2500:\n",
            "1    Bruno\n",
            "4      Edu\n",
            "Name: nome, dtype: object \n",
            "\n"
          ]
        }
      ]
    },
    {
      "cell_type": "markdown",
      "source": [
        "##Q10. Utilizando pandas, como lidar com valores ausentes (NaN) em um DataFrame?\n"
      ],
      "metadata": {
        "id": "OyIieBjcrLj2"
      }
    },
    {
      "cell_type": "markdown",
      "source": [
        "# Como lidar com valores ausentes (NaN) em um DataFrame\n",
        "\n",
        "Em pandas, valores ausentes surgem como `NaN`. As principais estratégias para tratá-los são:\n",
        "\n",
        "1. **Detectar e contar**  \n",
        "   - `df.isnull()` / `df.notnull()`  \n",
        "   - `df.isnull().sum()`\n",
        "\n",
        "2. **Remover**  \n",
        "   - `df.dropna()`         → remove linhas com **qualquer** `NaN`  \n",
        "   - `df.dropna(axis=1)`   → remove colunas com **qualquer** `NaN`\n",
        "\n",
        "3. **Preencher**  \n",
        "   - `df.fillna(valor)`           → preenche todos os `NaN` com `valor`  \n",
        "   - `df.fillna(df.mean())`       → preenche cada coluna com sua média  \n",
        "   - `df.fillna(method='ffill')`  → preenche com último valor válido  \n",
        "   - `df.interpolate()`           → interpola valores numéricos\n",
        "\n",
        "---"
      ],
      "metadata": {
        "id": "wMN1S3yZrhIh"
      }
    },
    {
      "cell_type": "code",
      "source": [
        "import pandas as pd\n",
        "from typing import NoReturn\n",
        "\n",
        "def demonstrate_missing_values() -> NoReturn:\n",
        "    \"\"\"\n",
        "    Demonstra como detectar, remover e preencher valores ausentes\n",
        "    em um DataFrame usando pandas.\n",
        "    \"\"\"\n",
        "    # DataFrame de exemplo com NaN\n",
        "    df = pd.DataFrame({\n",
        "        'A': [1.0,   None, 3.0,  None],\n",
        "        'B': [None,  2.0,  None, 4.0],\n",
        "        'C': [10.0,  None, 30.0, 40.0]\n",
        "    })\n",
        "    print(\"Original:\\n\", df, \"\\n\")\n",
        "\n",
        "    # Exemplo 1: contar NaN por coluna\n",
        "    print(\"1) Contagem de NaN por coluna:\")\n",
        "    print(df.isnull().sum(), \"\\n\")\n",
        "\n",
        "    # Exemplo 2: remover linhas com qualquer NaN\n",
        "    print(\"2) Linhas sem NaN (df.dropna()):\")\n",
        "    print(df.dropna(), \"\\n\")\n",
        "\n",
        "    # Exemplo 3: remover colunas com qualquer NaN\n",
        "    print(\"3) Colunas sem NaN (df.dropna(axis=1)):\")\n",
        "    print(df.dropna(axis=1), \"\\n\")\n",
        "\n",
        "    # Exemplo 4: preencher NaN com valor fixo (0)\n",
        "    print(\"4) Preencher NaN com 0 (df.fillna(0)):\")\n",
        "    print(df.fillna(0), \"\\n\")\n",
        "\n",
        "    # Exemplo 5: preencher NaN com média de cada coluna\n",
        "    print(\"5) Preencher NaN com média (df.fillna(df.mean())):\")\n",
        "    print(df.fillna(df.mean()), \"\\n\")\n",
        "\n",
        "if __name__ == \"__main__\":\n",
        "    demonstrate_missing_values()"
      ],
      "metadata": {
        "colab": {
          "base_uri": "https://localhost:8080/"
        },
        "id": "KDNvG17JrhmL",
        "outputId": "224d3181-e58c-4968-b401-b8c4d807243e"
      },
      "execution_count": 8,
      "outputs": [
        {
          "output_type": "stream",
          "name": "stdout",
          "text": [
            "Original:\n",
            "      A    B     C\n",
            "0  1.0  NaN  10.0\n",
            "1  NaN  2.0   NaN\n",
            "2  3.0  NaN  30.0\n",
            "3  NaN  4.0  40.0 \n",
            "\n",
            "1) Contagem de NaN por coluna:\n",
            "A    2\n",
            "B    2\n",
            "C    1\n",
            "dtype: int64 \n",
            "\n",
            "2) Linhas sem NaN (df.dropna()):\n",
            "Empty DataFrame\n",
            "Columns: [A, B, C]\n",
            "Index: [] \n",
            "\n",
            "3) Colunas sem NaN (df.dropna(axis=1)):\n",
            "Empty DataFrame\n",
            "Columns: []\n",
            "Index: [0, 1, 2, 3] \n",
            "\n",
            "4) Preencher NaN com 0 (df.fillna(0)):\n",
            "     A    B     C\n",
            "0  1.0  0.0  10.0\n",
            "1  0.0  2.0   0.0\n",
            "2  3.0  0.0  30.0\n",
            "3  0.0  4.0  40.0 \n",
            "\n",
            "5) Preencher NaN com média (df.fillna(df.mean())):\n",
            "     A    B          C\n",
            "0  1.0  3.0  10.000000\n",
            "1  2.0  2.0  26.666667\n",
            "2  3.0  3.0  30.000000\n",
            "3  2.0  4.0  40.000000 \n",
            "\n"
          ]
        }
      ]
    }
  ]
}